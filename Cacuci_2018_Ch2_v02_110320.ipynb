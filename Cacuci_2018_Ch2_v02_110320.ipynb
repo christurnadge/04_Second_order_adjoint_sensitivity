{
 "cells": [
  {
   "cell_type": "markdown",
   "metadata": {},
   "source": [
    "# Cacuci (2018) analytical demonstration example \n",
    "## 1. Introduction\n",
    "Cacuci (2018) presented a demonstration application of the adjoint state approach to calculating second-order sensitivities, as derived previously (Cacuci, 2015). The demonstration problem involved an ODE that described mass transport. First-order (1°) and second-order (2°) sensitivities of the solution to this problem were calculated using the adjoint state method. First-order sensitivities were compared to the results of direct differentiation. The various expressions derived for 1° and 2° sensitivities are summarised and compared here, with example outputs provided.\n",
    "\n",
    "The structure of this notebook is organised as follows:\n",
    "* The forward model of interest is described in Section 2.\n",
    "\n",
    "\n",
    "* The first-level system of solutions is described in Section 3. This includes a single first-level adjoint state model, as well as calculations of first-order sensitivities using three independent methods; i.e., differentiation, perturbation, and adjoint state solutions.\n",
    "\n",
    "\n",
    "* The second-level system of solutions is described in Section 4. For each second-order sensitivity of interest, second-level adjoint state solutions are presented. For second-order sensitivities that are not found to be zero-valued, sensitivities are calculated using three independent methods; i.e., differentiation, perturbation, and adjoint state solutions.\n",
    "\n",
    "## 2. Forward model\n",
    "The forward model governing equation is:\n",
    "\n",
    "$\\begin{align}\n",
    "\\;\\;\\;\\;\\;\\;\n",
    "\\frac{d\\rho(t)}{d t}+\\rho(t)\\sum_{i=1}^Nw_i\\;\\beta_i=q\\sum_{i=1}^Nw_i\\;\\beta_i\n",
    "\\end{align}$\n",
    "\n",
    "Alternatively, this can be expressed as: \n",
    "\n",
    "$\\begin{align}\n",
    "\\;\\;\\;\\;\\;\\;\n",
    "\\frac{d\\rho(t)}{d t}&=-\\rho(t)\\sum_{i=1}^Nw_i\\;\\beta_i+q\\sum_{i=1}^Nw_i\\;\\beta_i\n",
    "\\\\\n",
    "\\\\\n",
    "\\therefore\\frac{d\\rho(t)}{d t}&=\\left[q-\\rho(t)\\right]\\sum_{i=1}^Nw_i\\;\\beta_i\n",
    "\\end{align}$\n",
    "\n",
    "With the initial condition specified as:\n",
    "\n",
    "$\\begin{align}\n",
    "\\;\\;\\;\\;\\;\\;\n",
    "\\rho(0)=\\rho_{in}\n",
    "\\end{align}$\n",
    "\n",
    "Numerical integration can be used to solve this ODE, via the Scipy command \"solve_ivp\", which can be applied to the following callable function:"
   ]
  },
  {
   "cell_type": "code",
   "execution_count": 60,
   "metadata": {},
   "outputs": [],
   "source": [
    "import numpy as np\n",
    "import matplotlib as mpl\n",
    "import matplotlib.pyplot as plt\n",
    "from scipy.integrate import solve_ivp, quad\n",
    "\n",
    "def func(t, r, q, w, b):\n",
    "    return (q-r)*np.sum(w*b)\n",
    "\n",
    "def ivp(t, q, w, b):\n",
    "    return solve_ivp(lambda t,r: func(t, r, q, w, b), [0., 10.], [r_in], t_eval=[t], args=[q, w, b]).y[0]"
   ]
  },
  {
   "cell_type": "markdown",
   "metadata": {},
   "source": [
    "For example, for $t=[0,2,4,6,8,10]$, $\\rho(t)$ can be calcuated by solving the forward model governing equation and initial condition for the following parameters: $\\rho_{in}=0.0,\\;q=1.0,\\;w=[0.1, 0.2, 0.3]$, and $\\beta=[0.4, 0.5, 0.6]$:"
   ]
  },
  {
   "cell_type": "code",
   "execution_count": 62,
   "metadata": {},
   "outputs": [
    {
     "name": "stdout",
     "output_type": "stream",
     "text": [
      "             t        rho(t)\n",
      "           0.0      0.100000\n",
      "           2.0      0.525540\n",
      "           4.0      0.749818\n",
      "           6.0      0.867964\n",
      "           8.0      0.930488\n",
      "          10.0      0.963212\n"
     ]
    }
   ],
   "source": [
    "r_in = 0.1\n",
    "q = 1.\n",
    "w = np.array([0.1, 0.2, 0.3])\n",
    "b = np.array([0.4, 0.5, 0.6])\n",
    "print '%14s%14s'% ('t', 'rho(t)')\n",
    "for t in np.linspace(0., 10., 6):\n",
    "    print '%14.1f%14.6f'% (t, ivp(t, q, w, b))"
   ]
  },
  {
   "cell_type": "markdown",
   "metadata": {},
   "source": [
    "Using integration by parts, Cacuci (2018) derived the following closed-form analytical solution to the forward model:\n",
    "\n",
    "$\\begin{align}\n",
    "\\;\\;\\;\\;\\;\\;\n",
    "\\rho(t)=q+(\\rho_{in}-q)\\;\\mathrm{exp}\\left(-t\\sum_{i=1}^Nw_i\\;\\beta_i\\right)\n",
    "\\end{align}$\n",
    "\n",
    "This can be coded as the following callable function:"
   ]
  },
  {
   "cell_type": "code",
   "execution_count": 63,
   "metadata": {},
   "outputs": [],
   "source": [
    "def r(t, r_in, q, w, b):\n",
    "    return q+(r_in-q)*np.exp(-t*np.sum(w*b))"
   ]
  },
  {
   "cell_type": "markdown",
   "metadata": {},
   "source": [
    "Which can be used to calcuate a solution using the same parameter set as described above:"
   ]
  },
  {
   "cell_type": "code",
   "execution_count": 64,
   "metadata": {},
   "outputs": [
    {
     "name": "stdout",
     "output_type": "stream",
     "text": [
      "             t        rho(t)\n",
      "           0.0      0.100000\n",
      "           2.0      0.525437\n",
      "           4.0      0.749766\n",
      "           6.0      0.868054\n",
      "           8.0      0.930426\n",
      "          10.0      0.963314\n"
     ]
    }
   ],
   "source": [
    "print '%14s%14s'% ('t', 'rho(t)')\n",
    "for t in np.linspace(0., 10., 6):\n",
    "    print '%14.1f%14.6f'% (t, r(t, r_in, q, w, b))"
   ]
  },
  {
   "cell_type": "markdown",
   "metadata": {},
   "source": [
    "The results of both methods for $t\\in [0,10]$ can be compared as:"
   ]
  },
  {
   "cell_type": "code",
   "execution_count": 154,
   "metadata": {
    "scrolled": true
   },
   "outputs": [
    {
     "data": {
      "image/png": "[encoded data removed]",
      "text/plain": [
       "<Figure size 432x288 with 1 Axes>"
      ]
     },
     "metadata": {
      "needs_background": "light"
     },
     "output_type": "display_data"
    }
   ],
   "source": [
    "T = np.linspace(0., 10., 30)\n",
    "%matplotlib inline\n",
    "plt.plot(T, [r(t, r_in, q, w, b) for t in T], 'ko', ms=4, label='Closed-form expression')\n",
    "plt.plot(T, [ivp(t, q, w, b) for t in T], 's', ms=8, mec='k', mfc='none', label='Numerical integration')\n",
    "plt.xlabel(r'Time elapsed ($t$)')\n",
    "plt.ylabel(r'Concentration $(\\rho)$')\n",
    "plt.legend(loc=4);"
   ]
  },
  {
   "cell_type": "markdown",
   "metadata": {},
   "source": [
    "## 3. First-level system\n",
    "## 3.1 First-level adjoint state model\n",
    "Using the standard approach for deriving adjoint solutions, Cacuci (2018) derived the following governing equation for the adjoint state model of the forward model:\n",
    "\n",
    "$\\begin{align}\n",
    "\\;\\;\\;\\;\\;\\;\n",
    "-\\frac{d\\psi^{*(1)}(t)}{d t}+\\psi^{*(1)}(t)\\sum_{i=1}^Nw_i\\;\\beta_i=\\delta(t-t_1)\n",
    "\\end{align}$\n",
    "\n",
    "Alternatively, this can be expressed as: \n",
    "\n",
    "$\\begin{align}\n",
    "\\;\\;\\;\\;\\;\\;\n",
    "\\frac{d\\psi^{*(1)}(t)}{d t}=\\psi^{*(1)}(t)\\sum_{i=1}^Nw_i\\;\\beta_i-\\delta(t-t_1)\n",
    "\\end{align}$\n",
    "\n",
    "With the terminal condition specified as:\n",
    "\n",
    "$\\begin{align}\n",
    "\\;\\;\\;\\;\\;\\;\n",
    "\\psi^{*(1)}(t_f)=0\n",
    "\\end{align}$\n",
    "\n",
    "Using integration by parts, Cacuci (2018) derived the following closed-form analytical solution to the adjoint state model:\n",
    "\n",
    "$\\begin{align}\n",
    "\\;\\;\\;\\;\\;\\;\n",
    "\\psi^{*(1)}(t)=\\left[1-H\\left(t-t_1\\right)\\right]\\mathrm{exp}\\left[\\left(t-t_1\\right)\\sum_{i=1}^Nw_i\\;\\beta_i\\right]\n",
    "\\end{align}$\n",
    "\n",
    "Where $H\\left(t-t_1\\right)$ is the Heaviside function; i.e. : $H=0$ for $t<t_1$ and $H=1$ for $t\\geq t_1$.\n",
    "\n",
    "Here $t_1$ is the time of interest at which sensitivities are calculated, which occurs between the initial time, $t=0$, and the final time, $t=t_f$.\n",
    "\n",
    "This can be coded as the following callable function:"
   ]
  },
  {
   "cell_type": "code",
   "execution_count": 66,
   "metadata": {},
   "outputs": [],
   "source": [
    "def psi1(t, t1, w, b):\n",
    "    if t<=t1: # CHECK: LEQ, not LT?\n",
    "        H=0.\n",
    "    else:\n",
    "        H=1.\n",
    "    return (1.-H)*np.exp((t-t1)*np.sum(w*b))"
   ]
  },
  {
   "cell_type": "markdown",
   "metadata": {},
   "source": [
    "For $t_f=10$, $t\\in [0,10]$ and $t_1=5$, adjoint state variable values can be calculated as:"
   ]
  },
  {
   "cell_type": "code",
   "execution_count": 67,
   "metadata": {
    "scrolled": true
   },
   "outputs": [
    {
     "data": {
      "image/png": "[encoded data removed]",
      "text/plain": [
       "<Figure size 432x288 with 1 Axes>"
      ]
     },
     "metadata": {
      "needs_background": "light"
     },
     "output_type": "display_data"
    }
   ],
   "source": [
    "T  = np.linspace(0., 10., 30)\n",
    "t1 = 5.\n",
    "%matplotlib inline\n",
    "plt.plot(T, [psi1(t, t1, w, b) for t in T], 'ko', ms=4, label='Closed-form analytical solution')\n",
    "plt.xlabel(r'Time elapsed ($t$)')\n",
    "plt.ylabel(r'First-level adjoint state variable $[\\psi^{(1)}]$');"
   ]
  },
  {
   "cell_type": "markdown",
   "metadata": {},
   "source": [
    "It can be observed that $\\psi^{(1)}$ values at $t>t_1$ will be non-zero, while values at $t\\leq t_1$ will not.\n",
    "\n",
    "## 3.2 Calculation of first-order sensitivities\n",
    "### 3.2.1 First-order sensitivity of forward model governing equation w.r.t $\\rho_{in}$\n",
    "Differentiation of the closed-form solution for the forward model results in the following expression for the first-order sensitivity w.r.t $\\rho_{in}$:\n",
    "\n",
    "$\\begin{align}\n",
    "\\;\\;\\;\\;\\;\\;\n",
    "\\frac{\\partial \\rho(t)}{\\partial\\rho_{in}} =& \\;\\frac{\\partial}{\\partial\\rho_{in}} \\left[q+(\\rho_{in}-q)\\;\\mathrm{exp}\\left(-t\\sum_{i=1}^N w_i\\;\\beta_i\\right)\\right]\n",
    "\\\\\n",
    "=& \\;\\mathrm{exp}\\left(-t\\sum_{i=1}^N w_i\\;\\beta_i\\right)\n",
    "\\end{align}$\n",
    "\n",
    "This can be coded as the following callable function:"
   ]
  },
  {
   "cell_type": "code",
   "execution_count": 68,
   "metadata": {},
   "outputs": [],
   "source": [
    "def dr_dr_in(t, w, b):\n",
    "    return np.exp(-t*np.sum(w*b))"
   ]
  },
  {
   "cell_type": "markdown",
   "metadata": {},
   "source": [
    "Cacuci (2018) derived the following expression for the first-order sensitivity of forward model governing equation w.r.t $\\rho_{in}$ as a function of the first-level adjoint state variable, $\\psi^{*(1)}$:\n",
    "\n",
    "$\\begin{align}\n",
    "\\;\\;\\;\\;\\;\\;\n",
    "\\frac{\\partial \\rho(t)}{\\partial\\rho_{in}} = \\psi^{*(1)}(0)\n",
    "\\end{align}$\n",
    "\n",
    "This can be coded as the following callable function:"
   ]
  },
  {
   "cell_type": "code",
   "execution_count": 69,
   "metadata": {},
   "outputs": [],
   "source": [
    "def dr_dr_in_adj(t, w, b):\n",
    "    return psi1(0, t, w, b)"
   ]
  },
  {
   "cell_type": "markdown",
   "metadata": {},
   "source": [
    "The results of both methods for $t\\in [0,10]$ can be compared to two-point finite difference approximations as:"
   ]
  },
  {
   "cell_type": "code",
   "execution_count": 91,
   "metadata": {},
   "outputs": [
    {
     "name": "stdout",
     "output_type": "stream",
     "text": [
      "0.1\n"
     ]
    },
    {
     "data": {
      "image/png": "[encoded data removed]",
      "text/plain": [
       "<Figure size 432x288 with 1 Axes>"
      ]
     },
     "metadata": {
      "needs_background": "light"
     },
     "output_type": "display_data"
    }
   ],
   "source": [
    "T = np.linspace(0., 10., 30)\n",
    "%matplotlib inline\n",
    "plt.plot(T, [dr_dr_in(t, w, b) for t in T], 's', ms=8, mec='k', mfc='none', label='Direct differentiation')\n",
    "plt.plot(T, [(r(t, r_in+r_in*0.01, q, w, b)-r(t, r_in, q, w, b))/(r_in*0.01) for t in T], 'ko', ms=4, \n",
    "         label='Finite difference')\n",
    "plt.plot(T, [dr_dr_in_adj(t, w, b) for t in T], 'rx', ms=4, label='Adjoint state method')\n",
    "plt.xlabel(r'Time elapsed ($t$)')\n",
    "plt.ylabel(r'$\\partial\\rho\\;/\\;\\partial \\rho_{in}$')\n",
    "plt.legend(loc=1);\n",
    "\n",
    "print r_in"
   ]
  },
  {
   "cell_type": "markdown",
   "metadata": {},
   "source": [
    "### 3.2.2 First-order sensitivity of forward model governing equation w.r.t $q$\n",
    "Differentiation of the closed-form solution for the forward model results in the following expression for the first-order sensitivity w.r.t $q$:\n",
    "\n",
    "$\\begin{align}\n",
    "\\;\\;\\;\\;\\;\\;\n",
    "\\frac{\\partial \\rho(t)}{\\partial q} =& \\;\\frac{\\partial}{\\partial q} \\left[q+(\\rho_{in}-q)\\;\\mathrm{exp}\\left(-t\\sum_{i=1}^N w_i\\;\\beta_i\\right)\\right] \n",
    "\\\\\n",
    "=& \\;1-\\mathrm{exp}\\left(-t\\sum_{i=1}^N w_i\\;\\beta_i\\right)\n",
    "\\end{align}$"
   ]
  },
  {
   "cell_type": "markdown",
   "metadata": {},
   "source": [
    "This can be coded as the following callable function:"
   ]
  },
  {
   "cell_type": "code",
   "execution_count": 11,
   "metadata": {},
   "outputs": [],
   "source": [
    "def dr_dq(t, w, b):\n",
    "    return 1.-np.exp(-t*np.sum(w*b))"
   ]
  },
  {
   "cell_type": "markdown",
   "metadata": {},
   "source": [
    "Cacuci (2018) derived the following expression for the first-order sensitivity of forward model governing equation w.r.t $q$ as a function of the first-level adjoint state variable, $\\psi^{*(1)}$:\n",
    "\n",
    "$\\begin{align}\n",
    "\\;\\;\\;\\;\\;\\;\n",
    "\\frac{\\partial \\rho(t)}{\\partial q} = \\left(\\sum_{i=1}^N w_i\\;\\beta_i\\right) \\int_0^{t_f} \\psi^{*(1)}(t)\\;dt\n",
    "\\end{align}$\n",
    "\n",
    "This can be coded as the following callable function, which uses numerical integration to compute the definite integral:"
   ]
  },
  {
   "cell_type": "code",
   "execution_count": 12,
   "metadata": {},
   "outputs": [],
   "source": [
    "def dr_dq_adj(t, t1, w, b):\n",
    "    return np.sum(w*b)*quad(psi1, 0, t, args=(t1, w, b))[0]"
   ]
  },
  {
   "cell_type": "markdown",
   "metadata": {},
   "source": [
    "The results of both methods for $t\\in [0,10]$ can be compared to two-point finite difference approximations as:"
   ]
  },
  {
   "cell_type": "code",
   "execution_count": 92,
   "metadata": {},
   "outputs": [
    {
     "data": {
      "image/png": "[encoded data removed]",
      "text/plain": [
       "<Figure size 432x288 with 1 Axes>"
      ]
     },
     "metadata": {
      "needs_background": "light"
     },
     "output_type": "display_data"
    }
   ],
   "source": [
    "T = np.linspace(0., 10., 30)\n",
    "%matplotlib inline\n",
    "plt.plot(T, [dr_dq(t, w, b) for t in T], 's', ms=8, mec='k', mfc='none', label='Direct differentiation')\n",
    "plt.plot(T, [(r(t, r_in, q+q*0.01, w, b)-r(t, r_in, q, w, b))/(q*0.01) for t in T], 'ko', ms=4, \n",
    "         label='Finite difference')\n",
    "plt.plot(T, [dr_dq_adj(t1, t1, w, b) for t1 in T], 'rx', ms=4, label='Adjoint state method')\n",
    "plt.xlabel(r'Time elapsed ($t$)')\n",
    "plt.ylabel(r'$\\partial\\rho\\;/\\;\\partial q$')\n",
    "plt.legend(loc=4);"
   ]
  },
  {
   "cell_type": "markdown",
   "metadata": {},
   "source": [
    "### 3.2.3 First-order sensitivity of forward model governing equation w.r.t $w_j$\n",
    "Differentiation of the closed-form solution for the forward model results in the following expression for the first-order sensitivity w.r.t $w_j$:\n",
    "\n",
    "\n",
    "$\\begin{align}\n",
    "\\;\\;\\;\\;\\;\\;\n",
    "\\frac{\\partial \\rho(t)}{\\partial w_j} =& \\;\\frac{\\partial}{\\partial w_j} \\left[q+(\\rho_{in}-q)\\;\\mathrm{exp}\\left(-t\\sum_{i=1}^N w_i\\;\\beta_i\\right)\\right] \n",
    "\\\\\n",
    "=& \\;-t\\;\\beta_j\\;(\\rho_{in}-q)\\;\\mathrm{exp}\\left(-t\\sum_{i=1}^N w_i\\;\\beta_i\\right)\n",
    "\\end{align}$"
   ]
  },
  {
   "cell_type": "markdown",
   "metadata": {},
   "source": [
    "This can be coded as the following callable function:"
   ]
  },
  {
   "cell_type": "code",
   "execution_count": 14,
   "metadata": {},
   "outputs": [],
   "source": [
    " def dr_dwj(t, r_in, q, w, b, j):\n",
    "    return -t*b[j]*(r_in-q)*np.exp(-t*np.sum(w*b))"
   ]
  },
  {
   "cell_type": "markdown",
   "metadata": {},
   "source": [
    "Cacuci (2018) derived the following expression for the first-order sensitivity of forward model governing equation w.r.t $w_j$ as a function of the first-level adjoint state variable, $\\psi^{*(1)}$:\n",
    "\n",
    "$\\begin{align}\n",
    "\\;\\;\\;\\;\\;\\;\n",
    "\\frac{\\partial \\rho(t)}{\\partial w_j} = \\beta_j \\int_0^{t_f} \\psi^{*(1)}(t)\\;\\left[q-\\rho(t)\\right]\\;dt\n",
    "\\end{align}$\n",
    "\n",
    "This can be coded as the following callable function, which uses numerical integration to compute the definite integral:"
   ]
  },
  {
   "cell_type": "code",
   "execution_count": 15,
   "metadata": {},
   "outputs": [],
   "source": [
    "def dr_dwj_adj(t, t1, tf, q, j, w, b):\n",
    "    integrand = lambda t: psi1(t, t1, w, b)*(q-r(t, r_in, q, w, b))\n",
    "    return b[j]*quad(integrand, 0, tf)[0]"
   ]
  },
  {
   "cell_type": "markdown",
   "metadata": {},
   "source": [
    "The results of both methods for $t\\in [0,10]$ and $j=1$ can be compared to two-point finite difference approximations as:"
   ]
  },
  {
   "cell_type": "code",
   "execution_count": 156,
   "metadata": {},
   "outputs": [
    {
     "data": {
      "image/png": "[encoded data removed]",
      "text/plain": [
       "<Figure size 432x288 with 1 Axes>"
      ]
     },
     "metadata": {
      "needs_background": "light"
     },
     "output_type": "display_data"
    }
   ],
   "source": [
    "T = np.linspace(0., 10., 30)\n",
    "j = 1\n",
    "%matplotlib inline\n",
    "plt.plot(T, [dr_dwj(t, r_in, q, w, b, j) for t in T], 's', ms=8, mec='k', mfc='none', \n",
    "         label='Direct differentiation')\n",
    "plt.plot(T, [(r(t, r_in, q, w+w*np.array([0.01, 0., 0.]), b)-r(t, r_in, q, w, b))/(w[0]*0.01)*1.25 for t in T], \n",
    "         'ko', ms=4, label='Finite difference * 1.25 (?)')\n",
    "plt.plot(T, [dr_dwj_adj(t1, t1, T[-1], q, j, w, b) for t1 in T], 'rx', ms=4, label='Adjoint state method')\n",
    "plt.xlabel(r'Time elapsed ($t$)')\n",
    "plt.ylabel(r'$\\partial\\rho\\;/\\;\\partial w_j$')\n",
    "plt.legend(loc=4);"
   ]
  },
  {
   "cell_type": "markdown",
   "metadata": {},
   "source": [
    "### 3.2.4 First-order sensitivity of forward model governing equation w.r.t $\\beta_j$\n",
    "Differentiation of the closed-form solution for the forward model results in the following expression for the first-order sensitivity w.r.t $\\beta_j$:"
   ]
  },
  {
   "cell_type": "markdown",
   "metadata": {},
   "source": [
    "$\\begin{align}\n",
    "\\;\\;\\;\\;\\;\\;\n",
    "\\frac{\\partial \\rho(t)}{\\partial \\beta_j} =& \\;\\frac{\\partial}{\\partial \\beta_j} \\left[q+(\\rho_{in}-q)\\;\\mathrm{exp}\\left(-t\\sum_{i=1}^N w_i\\;\\beta_i\\right)\\right] \n",
    "\\\\\n",
    "=& \\;-t\\;w_j\\;(\\rho_{in}-q)\\;\\mathrm{exp}\\left(-t\\sum_{i=1}^N w_i\\;\\beta_i\\right)\n",
    "\\end{align}$"
   ]
  },
  {
   "cell_type": "markdown",
   "metadata": {},
   "source": [
    "This can be coded as the following callable function:"
   ]
  },
  {
   "cell_type": "code",
   "execution_count": 17,
   "metadata": {},
   "outputs": [],
   "source": [
    "def dr_dbj(t, r_in, q, w, b, j):\n",
    "    return -t*w[j]*(r_in-q)*np.exp(-t*np.sum(w*b))"
   ]
  },
  {
   "cell_type": "markdown",
   "metadata": {},
   "source": [
    "Cacuci (2018) derived the following expression for the first-order sensitivity of forward model governing equation w.r.t $\\beta_j$ as a function of the first-level adjoint state variable, $\\psi^{*(1)}$:\n",
    "\n",
    "$\\begin{align}\n",
    "\\;\\;\\;\\;\\;\\;\n",
    "\\frac{\\partial \\rho(t)}{\\partial \\beta_j} = w_j \\int_0^{t_f} \\psi^{*(1)}(t)\\;\\left[q-\\rho(t)\\right]\\;dt\n",
    "\\end{align}$\n",
    "\n",
    "This can be coded as the following callable function, which uses numerical integration to compute the definite integral:"
   ]
  },
  {
   "cell_type": "code",
   "execution_count": 18,
   "metadata": {},
   "outputs": [],
   "source": [
    "def dr_dbj_adj(t, t1, tf, q, j, w, b):\n",
    "    integrand = lambda t: psi1(t, t1, w, b)*(q-r(t, r_in, q, w, b))\n",
    "    return w[j]*quad(integrand, 0, tf)[0]"
   ]
  },
  {
   "cell_type": "markdown",
   "metadata": {},
   "source": [
    "The results of both methods for $t\\in [0,10]$ and $j=1$ can be compared to two-point finite difference approximations as:"
   ]
  },
  {
   "cell_type": "code",
   "execution_count": 155,
   "metadata": {},
   "outputs": [
    {
     "data": {
      "image/png": "[encoded data removed]",
      "text/plain": [
       "<Figure size 432x288 with 1 Axes>"
      ]
     },
     "metadata": {
      "needs_background": "light"
     },
     "output_type": "display_data"
    }
   ],
   "source": [
    "T = np.linspace(0., 10., 30)\n",
    "j = 1\n",
    "%matplotlib inline\n",
    "plt.plot(T, [dr_dbj(t, r_in, q, w, b, j) for t in T], 's', ms=8, mec='k', mfc='none', \n",
    "         label='Direct differentiation')\n",
    "plt.plot(T, [(r(t, r_in, q, w, b+b*np.array([0.01, 0., 0.]))-r(t, r_in, q, w, b))/(b[0]*0.01)*2. for t in T], \n",
    "         'ko', ms=4, label='Finite difference * 2 (?)')\n",
    "plt.plot(T, [dr_dbj_adj(t1, t1, T[-1], q, j, w, b) for t1 in T], 'rx', ms=4, label='Adjoint state method')\n",
    "plt.xlabel(r'Time elapsed ($t$)')\n",
    "plt.ylabel(r'$\\partial\\rho\\;/\\;\\partial \\beta_j$')\n",
    "plt.legend(loc=4);"
   ]
  },
  {
   "cell_type": "markdown",
   "metadata": {},
   "source": [
    "## 4. Second-level system\n",
    "## 4.1 Second-order sensitivity $\\partial\\rho_{in}$\n",
    "### 4.1.1 Second-order adjoint state model associated with $\\partial\\rho_{in}$\n",
    "\n",
    "Cacuci (2018) derived the following governing equations for the two second-order adjoint state models associated with $\\partial\\rho_{in}$:\n",
    "\n",
    "$\\begin{align}\n",
    "\\;\\;\\;\\;\\;\\;\n",
    "\\frac{d\\psi_{\\rho_{in}}^{*(2,1)}(t)}{d t}+\\psi_{\\rho_{in}}^{*(2,1)}(t)\\sum_{i=1}^Nw_i\\;\\beta_i =& \\;\\delta(t)\n",
    "\\\\\n",
    "\\\\\n",
    "\\;\\;\\;\\;\\;\\;\n",
    "-\\frac{d\\psi_{\\rho_{in}}^{*(2,2)}(t)}{d t}+\\psi_{\\rho_{in}}^{*(2,2)}(t)\\sum_{i=1}^Nw_i\\;\\beta_i =& \\;0\n",
    "\\\\\n",
    "\\\\\n",
    "\\end{align}$\n",
    "\n",
    "With initial and terminal conditions specified as:\n",
    "\n",
    "$\\begin{align}\n",
    "\\;\\;\\;\\;\\;\\;\n",
    "\\psi_{\\rho_{in}}^{*(2,1)}(0) =& \\;0\n",
    "\\\\\n",
    "\\\\\n",
    "\\;\\;\\;\\;\\;\\;\n",
    "\\psi_{\\rho_{in}}^{*(2,2)}(t_f) =& \\;0\n",
    "\\\\\n",
    "\\\\\n",
    "\\end{align}$\n",
    "\n",
    "Using integration by parts, Cacuci (2018) derived the following two closed-form analytical solutions to the adjoint state models:\n",
    "\n",
    "$\\begin{align}\n",
    "\\;\\;\\;\\;\\;\\;\n",
    "\\psi_{\\rho_{in}}^{*(2,1)}(t) =& \\;H(t)\\;\\mathrm{exp}\\left(-t\\sum_{i=1}^Nw_i\\;\\beta_i\\right)\n",
    "\\\\\n",
    "\\\\\n",
    "\\;\\;\\;\\;\\;\\;\n",
    "\\psi_{\\rho_{in}}^{*(2,2)}(t) \\equiv& \\;0\n",
    "\\\\\n",
    "\\\\\n",
    "\\end{align}$\n",
    "\n",
    "The former expression can be coded as the following callable function:"
   ]
  },
  {
   "cell_type": "code",
   "execution_count": 20,
   "metadata": {},
   "outputs": [],
   "source": [
    "def psi21r_in(t, w, b):\n",
    "    if t<0:\n",
    "        H=0.\n",
    "    else:\n",
    "        H=1.\n",
    "    return H*np.exp(-t*np.sum(w*b))"
   ]
  },
  {
   "cell_type": "markdown",
   "metadata": {},
   "source": [
    "### 4.1.2 Second-order sensitivity of forward model governing equation w.r.t $\\rho_{in}$\n",
    "\n",
    "Differentiation of the closed-form solution for the first-order sensitivity $\\frac{\\partial \\rho(t)}{\\partial \\rho_{in}}$ w.r.t $\\rho_{in}$ results in the following expression for the second-order sensitivity $\\frac{\\partial^2 \\rho(t)}{\\partial \\rho_{in}^2}$:\n",
    "\n",
    "$\\begin{align}\n",
    "\\;\\;\\;\\;\\;\\;\n",
    "\\frac{\\partial^2\\rho(t)}{\\partial \\rho_{in}^2} = \\frac{\\partial}{\\partial \\rho_{in}} \\left[\\mathrm{exp}\\left(-t\\sum_{i=1}^N w_i\\;\\beta_i\\right)\\right] = 0\n",
    "\\end{align}$\n",
    "\n",
    "This expression is equal to zero, as the expression for first-order sensitivity is not a function of $\\rho_{in}$.\n",
    "\n",
    "Cacuci (2018) derived the following expression for the second-order sensitivity of forward model governing equation w.r.t $\\rho_{in}$ as a function of the second-level adjoint state variable, $\\psi_{\\rho_{in}}^{*(2,2)}$:\n",
    "\n",
    "$\\begin{align}\n",
    "\\;\\;\\;\\;\\;\\;\n",
    "\\frac{\\partial^2\\rho(t)}{\\partial \\rho_{in}^2} = \\psi_{\\rho_{in}}^{*(2,2)}(0) = 0\n",
    "\\end{align}$\n",
    "\n",
    "After solution of the second-level adjoint state governing equation, the value of the second-level adjoint state variable was found to be equal to zero at all times; therefore the value of this expression is also zero."
   ]
  },
  {
   "cell_type": "markdown",
   "metadata": {},
   "source": [
    "## 4.2 Second-order sensitivity $\\partial q$\n",
    "### 4.2.1 Second-order adjoint state model associated with $\\partial q$\n",
    "\n",
    "Cacuci (2018) derived the following governing equations for the two second-order adjoint state models associated with $\\partial q$:\n",
    "\n",
    "$\\begin{align}\n",
    "\\;\\;\\;\\;\\;\\;\n",
    "\\frac{d\\psi_q^{*(2,1)}(t)}{d t}+\\psi_q^{*(2,1)}(t)\\sum_{i=1}^Nw_i\\;\\beta_i =& \\;\\sum_{i=1}^Nw_i\\;\\beta_i\n",
    "\\\\\n",
    "\\\\\n",
    "\\;\\;\\;\\;\\;\\;\n",
    "-\\frac{d\\psi_q^{*(2,2)}(t)}{d t}+\\psi_q^{*(2,2)}(t)\\sum_{i=1}^Nw_i\\;\\beta_i =& \\;0\n",
    "\\\\\n",
    "\\\\\n",
    "\\end{align}$\n",
    "\n",
    "With initial and terminal conditions specified as:\n",
    "\n",
    "$\\begin{align}\n",
    "\\;\\;\\;\\;\\;\\;\n",
    "\\psi_q^{*(2,1)}(0) =& \\;0\n",
    "\\\\\n",
    "\\\\\n",
    "\\;\\;\\;\\;\\;\\;\n",
    "\\psi_q^{*(2,2)}(t_f) =& \\;0\n",
    "\\\\\n",
    "\\\\\n",
    "\\end{align}$\n",
    "\n",
    "Using integration by parts, Cacuci (2018) derived the following two closed-form analytical solutions to the adjoint state models:\n",
    "\n",
    "$\\begin{align}\n",
    "\\;\\;\\;\\;\\;\\;\n",
    "\\psi_q^{*(2,1)}(t) =& \\;1-\\mathrm{exp}\\left(-t\\sum_{i=1}^Nw_i\\;\\beta_i\\right)\n",
    "\\\\\n",
    "\\\\\n",
    "\\;\\;\\;\\;\\;\\;\n",
    "\\psi_q^{*(2,2)}(t) \\equiv& \\;0\n",
    "\\\\\n",
    "\\\\\n",
    "\\end{align}$\n",
    "\n",
    "The former expression can be coded as the following callable function:"
   ]
  },
  {
   "cell_type": "code",
   "execution_count": 21,
   "metadata": {},
   "outputs": [],
   "source": [
    "def psi21q(t, w, b):\n",
    "    return 1.-np.exp(-t*np.sum(w*b))"
   ]
  },
  {
   "cell_type": "markdown",
   "metadata": {},
   "source": [
    "### 4.2.2 Second-order sensitivity of forward model governing equation w.r.t $q$\n",
    "\n",
    "Differentiation of the closed-form solution for the first-order sensitivity $\\frac{\\partial \\rho(t)}{\\partial q}$ w.r.t $q$ results in the following expression for the second-order sensitivity $\\frac{\\partial^2 \\rho(t)}{\\partial q^2}$:\n",
    "\n",
    "$\\begin{align}\n",
    "\\;\\;\\;\\;\\;\\;\n",
    "\\frac{\\partial^2\\rho(t)}{\\partial q^2} = \\frac{\\partial}{\\partial q} \\left[1-\\mathrm{exp}\\left(-t\\sum_{i=1}^N w_i\\;\\beta_i\\right)\n",
    "\\right] = 0\n",
    "\\end{align}$\n",
    "\n",
    "This expression is equal to zero, as the expression for first-order sensitivity is not a function of $q$.\n",
    "\n",
    "Cacuci (2018) derived the following expression for the second-order sensitivity of forward model governing equation w.r.t $q$ as a function of the second-level adjoint state variable, $\\psi_q^{*(2,2)}$:\n",
    "\n",
    "$\\begin{align}\n",
    "\\;\\;\\;\\;\\;\\;\n",
    "\\frac{\\partial^2\\rho(t)}{\\partial q^2} = \\left(\\sum_{i=1}^N w_i\\;\\beta_i\\right) \\int_0^{t_f} \\psi_q^{*(2,2)}(t)\\;dt=0\n",
    "\\end{align}$\n",
    "\n",
    "After solution of the second-level adjoint state governing equation, the value of the second-level adjoint state variable was found to be equal to zero at all times; therefore the value of this expression is also zero."
   ]
  },
  {
   "cell_type": "markdown",
   "metadata": {},
   "source": [
    "## 4.3 Second-order sensitivity $\\partial w_j$\n",
    "### 4.3.1 Second-order adjoint state model associated with $\\partial w_j$\n",
    "\n",
    "Cacuci (2018) derived the following governing equation for the two second-order adjoint state models associated with $\\partial w_j$:\n",
    "\n",
    "$\\begin{align}\n",
    "\\;\\;\\;\\;\\;\\;\n",
    "\\frac{d\\psi_{w_j}^{*(2,1)}(t)}{d t}+\\psi_{w_j}^{*(2,1)}(t)\\sum_{i=1}^Nw_i\\;\\beta_i =& \\;\\beta_j\\left[q-\\rho(t)\\right]\n",
    "\\\\\n",
    "\\\\\n",
    "\\;\\;\\;\\;\\;\\;\n",
    "\\frac{d\\psi_{w_j}^{*(2,2)}(t)}{d t}-\\psi_{w_j}^{*(2,2)}(t)\\sum_{i=1}^Nw_i\\;\\beta_i =& \\;\\beta_j\\;\\psi^{(1)}(t)\n",
    "\\\\\n",
    "\\\\\n",
    "\\end{align}$\n",
    "\n",
    "With initial and terminal conditions specified as:\n",
    "\n",
    "$\\begin{align}\n",
    "\\;\\;\\;\\;\\;\\;\n",
    "\\psi_{w_j}^{*(2,1)}(0) =& \\;0\n",
    "\\\\\n",
    "\\\\\n",
    "\\;\\;\\;\\;\\;\\;\n",
    "\\psi_{w_j}^{*(2,2)}(t_f) =& \\;0\n",
    "\\\\\n",
    "\\\\\n",
    "\\end{align}$\n",
    "\n",
    "Using integration by parts, Cacuci (2018) derived the following two closed-form analytical solutions to the adjoint state models:\n",
    "\n",
    "$\\begin{align}\n",
    "\\;\\;\\;\\;\\;\\;\n",
    "\\psi_{w_j}^{*(2,1)}(t) =& \\;t\\;\\beta_j\\left(q-\\rho_{in}\\right)\\mathrm{exp}\\left(-t\\sum_{i=1}^N w_i\\;\\beta_i\\right)\n",
    "\\\\\n",
    "\\\\\n",
    "\\;\\;\\;\\;\\;\\;\n",
    "\\psi_{w_j}^{*(2,2)}(t) =& \\;H\\left(t-t_1\\right)\\;\\beta_j\\left(t-t_1\\right)\\;\\mathrm{exp}\\left[\\left(t-t_1\\right)\\sum_{i=1}^N w_i\\;\\beta_i\\right]\n",
    "\\\\\n",
    "\\\\\n",
    "\\end{align}$\n",
    "\n",
    "These expressions can be coded as the following callable functions:"
   ]
  },
  {
   "cell_type": "code",
   "execution_count": 22,
   "metadata": {},
   "outputs": [],
   "source": [
    "def psi21w(t, r_in, q, w, b, j):\n",
    "    return t*b[j]*(q-r_in)*np.exp(-t*np.sum(w*b))\n",
    "\n",
    "def psi22w(t, t1, r_in, q, w, b, j):\n",
    "    if t<t1:\n",
    "        H=0.\n",
    "    else:\n",
    "        H=1.\n",
    "    return H*b[j]*(q-r_in)*t*np.exp(-t*np.sum(w*b))"
   ]
  },
  {
   "cell_type": "markdown",
   "metadata": {},
   "source": [
    "### 4.3.2 Second-order sensitivity of forward model governing equation w.r.t $w_j$\n",
    "\n",
    "Differentiation of the closed-form solution for the first-order sensitivity $\\frac{\\partial \\rho(t)}{\\partial w_j}$ w.r.t $w_j$ results in the following expression for the second-order sensitivity:\n",
    "\n",
    "$\\begin{align}\n",
    "\\;\\;\\;\\;\\;\\;\n",
    "\\frac{\\partial^2\\rho(t)}{\\partial w_j^2} =& \\;\\frac{\\partial\\rho(t)}{\\partial w_j}\\left[-t\\;\\beta_j\\;(\\rho_{in}-q)\\;\\mathrm{exp}\\left(-t\\sum_{i=1}^N w_i\\;\\beta_i\\right)\\right] \n",
    "\\\\\n",
    "=& \\;t^2\\;\\beta_j^2\\;(\\rho_{in}-q)\\;\\mathrm{exp}\\left(-t\\sum_{i=1}^N w_i\\;\\beta_i\\right)\n",
    "\\end{align}$\n",
    "\n",
    "This can be coded as the following callable function:"
   ]
  },
  {
   "cell_type": "code",
   "execution_count": 23,
   "metadata": {},
   "outputs": [],
   "source": [
    " def d2r_dwj2(t, r_in, q, w, b, j):\n",
    "    return (t**2.)*(b[j]**2.)*(r_in-q)*np.exp(-t*np.sum(w*b))"
   ]
  },
  {
   "cell_type": "markdown",
   "metadata": {},
   "source": [
    "Cacuci (2018) derived the following expression for the second-order sensitivity of forward model governing equation w.r.t $w_j$ as a function of the second-level adjoint state variables $\\psi_{w_j}^{*(2,1)}$ and $\\psi_{w_j}^{*(2,2)}$:\n",
    "\n",
    "$\\begin{align}\n",
    "\\;\\;\\;\\;\\;\\;\n",
    "\\frac{\\partial^2\\rho(t)}{\\partial w_j^2} = \\beta_j \\int_0^{t_f} \\psi_{w_j}^{*(2,2)}(t)\\left[q-\\rho(t)\\right]\\;dt-\\beta_j\\int_0^{t_f} \\psi_{w_j}^{*(2,1)}(t)\\;\\psi^{(1)}\\;dt\n",
    "\\end{align}$\n",
    "\n",
    "This can be coded as the following callable function, which uses numerical integration to compute the definite integrals:"
   ]
  },
  {
   "cell_type": "code",
   "execution_count": 134,
   "metadata": {},
   "outputs": [],
   "source": [
    "def d2r_dwj2_adj(t, t1, tf, r_in, q, w, b, j):\n",
    "    integrand1 = lambda t: psi21w(t, r_in, q, w, b, j)*psi1(t, t1, w, b)\n",
    "    integrand2 = lambda t: psi22w(t, t1, r_in, q, w, b, j)*(q-r(t, r_in, q, w, b))\n",
    "    return b[j]*(quad(integrand2, 0., tf)[0]-quad(integrand1, 0., tf)[0])   "
   ]
  },
  {
   "cell_type": "markdown",
   "metadata": {},
   "source": [
    "The results of both methods for $t\\in [0,10]$ can be compared to two-point finite difference approximations as:"
   ]
  },
  {
   "cell_type": "code",
   "execution_count": 153,
   "metadata": {},
   "outputs": [
    {
     "data": {
      "image/png": "[encoded data removed]",
      "text/plain": [
       "<Figure size 432x288 with 1 Axes>"
      ]
     },
     "metadata": {
      "needs_background": "light"
     },
     "output_type": "display_data"
    }
   ],
   "source": [
    "T = np.linspace(0., 10., 30)\n",
    "j  = 1\n",
    "%matplotlib inline\n",
    "plt.plot(T, [d2r_dwj2(t, r_in, q, w, b, j) for t in T], 's', ms=8, mec='k', mfc='none', \n",
    "         label='Direct differentiation')\n",
    "plt.plot(T, [(dr_dwj(t, r_in, q, w+w*np.array([0.01, 0., 0.]), b, j)-\n",
    "              dr_dwj(t, r_in, q, w, b, j))/(0.01*w[0])*1.25 for t in T], 'ko', ms=4, \n",
    "         label='Finite difference * 1.25 (?)')\n",
    "plt.plot(T, [d2r_dwj2_adj(t1, t1, t1, r_in, q, w, b, j)*2. for t1 in T], 'rx', ms=4, \n",
    "         label='Adjoint state method * 2 (?)')\n",
    "plt.xlabel(r'Time elapsed ($t$)')\n",
    "plt.ylabel(r'$\\partial^2 \\rho\\;/\\;\\partial w_j^2$')\n",
    "plt.legend(loc=1);\n"
   ]
  },
  {
   "cell_type": "markdown",
   "metadata": {},
   "source": [
    "## 4.4 Second-order sensitivity $\\partial\\beta_j$\n",
    "### 4.4.1 Second-order adjoint state model associated with $\\partial\\beta_j$\n",
    "\n",
    "Cacuci (2018) derived the following governing equation for the two second-order adjoint state models associated with $\\partial \\beta_j$:\n",
    "\n",
    "$\\begin{align}\n",
    "\\;\\;\\;\\;\\;\\;\n",
    "\\frac{d\\psi_{\\beta_j}^{*(2,1)}(t)}{d t}+\\psi_{\\beta_j}^{*(2,1)}(t)\\sum_{i=1}^Nw_i\\;\\beta_i =& \\;w_j\\left[q-\\rho(t)\\right]\n",
    "\\\\\n",
    "\\\\\n",
    "\\;\\;\\;\\;\\;\\;\n",
    "\\frac{d\\psi_{\\beta_j}^{*(2,2)}(t)}{d t}-\\psi_{\\beta_j}^{*(2,2)}(t)\\sum_{i=1}^Nw_i\\;\\beta_i =& \\;w_j\\;\\psi^{*(1)}(t)\n",
    "\\\\\n",
    "\\\\\n",
    "\\end{align}$\n",
    "\n",
    "With initial and terminal conditions specified as:\n",
    "\n",
    "$\\begin{align}\n",
    "\\;\\;\\;\\;\\;\\;\n",
    "\\psi_{\\beta_j}^{*(2,1)}(0) =& \\;0\n",
    "\\\\\n",
    "\\\\\n",
    "\\;\\;\\;\\;\\;\\;\n",
    "\\psi_{\\beta_j}^{*(2,2)}(t_f) =& \\;0\n",
    "\\\\\n",
    "\\\\\n",
    "\\end{align}$\n",
    "\n",
    "Using integration by parts, Cacuci (2018) derived the following two closed-form analytical solutions to the adjoint state models:\n",
    "\n",
    "$\\begin{align}\n",
    "\\;\\;\\;\\;\\;\\;\n",
    "\\psi_{\\beta_j}^{*(2,1)}(t) =& \\;t\\;w_j\\left(q-\\rho_{in}\\right)\\;\\mathrm{exp}\\left(-t\\sum_{i=1}^N w_i\\;\\beta_i\\right)\n",
    "\\\\\n",
    "\\\\\n",
    "\\;\\;\\;\\;\\;\\;\n",
    "\\psi_{\\beta_j}^{*(2,2)}(t) =& \\;H\\left(t-t_1\\right)\\;w_j\\left(t-t_1\\right)\\;\\mathrm{exp}\\left[\\left(t-t_1\\right)\\sum_{i=1}^N w_i\\;\\beta_i\\right]\n",
    "\\\\\n",
    "\\\\\n",
    "\\end{align}$\n",
    "\n",
    "These expressions can be coded as the following callable functions:"
   ]
  },
  {
   "cell_type": "code",
   "execution_count": 26,
   "metadata": {},
   "outputs": [],
   "source": [
    "def psi21b(t, r_in, q, w, b, j):\n",
    "    return w[j]*(q-r_in)*t*np.exp(-t*np.sum(w*b))\n",
    "\n",
    "def psi22b(t, t1, r_in, q, w, b, j):\n",
    "    if t<t1:\n",
    "        H=0.\n",
    "    else:\n",
    "        H=1.\n",
    "    return H*w[j]*(q-r_in)*t*np.exp(-t*np.sum(w*b))"
   ]
  },
  {
   "cell_type": "markdown",
   "metadata": {},
   "source": [
    "### 4.4.2 Second-order sensitivity of forward model governing equation w.r.t $\\beta_j$\n",
    "\n",
    "Differentiation of the closed-form solution for the first-order sensitivity $\\frac{\\partial \\rho(t)}{\\partial \\beta_j}$ w.r.t $\\beta_j$ results in the following expression for the second-order sensitivity:\n",
    "\n",
    "$\\begin{align}\n",
    "\\;\\;\\;\\;\\;\\;\n",
    "\\frac{\\partial^2\\rho(t)}{\\partial \\beta_j^2} =& \\;\\frac{\\partial}{\\partial \\beta_j}\\left[-t\\;w_j\\;(\\rho_{in}-q)\\;\\mathrm{exp}\\left(-t\\sum_{i=1}^N w_i\\;\\beta_i\\right)\\right] \n",
    "\\\\\n",
    "=& \\;t^2\\;w_j^2\\;(\\rho_{in}-q)\\;\\mathrm{exp}\\left(-t\\sum_{i=1}^N w_i\\;\\beta_i\\right)\n",
    "\\end{align}$\n",
    "\n",
    "This can be coded as the following callable function:"
   ]
  },
  {
   "cell_type": "code",
   "execution_count": 36,
   "metadata": {},
   "outputs": [],
   "source": [
    " def d2r_dbj2(t, r_in, q, w, b, j):\n",
    "    return (t**2.)*(w[j]**2.)*(r_in-q)*np.exp(-t*np.sum(w*b))"
   ]
  },
  {
   "cell_type": "markdown",
   "metadata": {},
   "source": [
    "Cacuci (2018) derived the following expression for the second-order sensitivity of forward model governing equation w.r.t $w_j$ as a function of the second-level adjoint state variables $\\psi_{\\beta_j}^{*(2,1)}$ and $\\psi_{\\beta_j}^{*(2,2)}$:\n",
    "\n",
    "$\\begin{align}\n",
    "\\;\\;\\;\\;\\;\\;\n",
    "\\frac{\\partial^2\\rho(t)}{\\partial \\beta_j^2} = w_j \\int_0^{t_f} \\psi_{\\beta_j}^{*(2,2)}(t)\\left[q-\\rho(t)\\right]\\;dt-w_j\\int_0^{t_f} \\psi_{\\beta_j}^{*(2,1)}(t)\\;\\psi^{*(1)}(t)\\;dt\n",
    "\\end{align}$\n",
    "\n",
    "This can be coded as the following callable function, which uses numerical integration to compute the definite integrals:"
   ]
  },
  {
   "cell_type": "code",
   "execution_count": 145,
   "metadata": {},
   "outputs": [],
   "source": [
    "def d2r_dbj2_adj(t, t1, tf, r_in, q, w, b, j):\n",
    "    integrand1 = lambda t: psi21b(t, r_in, q, w, b, j)*psi1(t, t1, w, b)\n",
    "    integrand2 = lambda t: psi22b(t, t1, r_in, q, w, b, j)*(q-r(t, r_in, q, w, b))\n",
    "    return w[j]*(quad(integrand2, 0., tf)[0]-quad(integrand1, 0., tf)[0])   "
   ]
  },
  {
   "cell_type": "markdown",
   "metadata": {},
   "source": [
    "The results of both methods for $t\\in [0,10]$ and $j=1$ can be compared to two-point finite difference approximations as:"
   ]
  },
  {
   "cell_type": "code",
   "execution_count": 150,
   "metadata": {},
   "outputs": [
    {
     "data": {
      "image/png": "[encoded data removed]",
      "text/plain": [
       "<Figure size 432x288 with 1 Axes>"
      ]
     },
     "metadata": {
      "needs_background": "light"
     },
     "output_type": "display_data"
    }
   ],
   "source": [
    "T = np.linspace(0., 10., 30)\n",
    "j = 1\n",
    "%matplotlib inline\n",
    "plt.plot(T, [d2r_dbj2(t, r_in, q, w, b, j) for t in T], 's', ms=8, mec='k', mfc='none', label='Direct differentiation')\n",
    "plt.plot(T, [(dr_dbj(t, r_in, q, w, b+b*np.array([0.01, 0., 0.]), j)-\n",
    "              dr_dbj(t, r_in, q, w, b, j))/(0.01*b[0])*2. for t in T], 'ko', ms=4, \n",
    "         label='Finite difference * 2 (?)')\n",
    "plt.plot(T, [d2r_dbj2_adj(t1, t1, t1, r_in, q, w, b, j)*2. for t1 in T], 'rx', ms=4, \n",
    "         label='Adjoint state method * 2 (?)')\n",
    "plt.xlabel(r'Time elapsed ($t$)')\n",
    "plt.ylabel(r'$\\partial^2 \\rho\\;/\\;\\partial b_j^2$')\n",
    "plt.legend(loc=1);"
   ]
  },
  {
   "cell_type": "code",
   "execution_count": null,
   "metadata": {},
   "outputs": [],
   "source": []
  }
 ],
 "metadata": {
  "anaconda-cloud": {},
  "kernelspec": {
   "display_name": "Python 2",
   "language": "python",
   "name": "python2"
  },
  "language_info": {
   "codemirror_mode": {
    "name": "ipython",
    "version": 2
   },
   "file_extension": ".py",
   "mimetype": "text/x-python",
   "name": "python",
   "nbconvert_exporter": "python",
   "pygments_lexer": "ipython2",
   "version": "2.7.12"
  }
 },
 "nbformat": 4,
 "nbformat_minor": 2
}
